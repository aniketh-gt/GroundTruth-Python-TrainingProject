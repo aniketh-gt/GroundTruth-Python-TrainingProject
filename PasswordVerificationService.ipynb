{
 "cells": [
  {
   "cell_type": "markdown",
   "id": "450810c8",
   "metadata": {},
   "source": [
    "# Password Verification Service"
   ]
  },
  {
   "cell_type": "markdown",
   "id": "0001823c",
   "metadata": {},
   "source": [
    "## TLDR\n",
    "\n",
    "- This service will accept user's configuration from INPUT SERVICE otherwise it will use standard configuration \n",
    "- This service will accept password from password generator service\n",
    "- This service also has predefined standards for a password in case user wants default password \n",
    "- At last it will verify passwords using Regular Expressions"
   ]
  },
  {
   "cell_type": "code",
   "execution_count": null,
   "id": "d509ffdd",
   "metadata": {},
   "outputs": [],
   "source": [
    "# this service will give me user configuration\n",
    "user_constraints = input_service()\n",
    "\n",
    "# this service will return me the generated password and we will verify the password as per the user's configuration\n",
    "generated_password = password_generator_service() \n"
   ]
  },
  {
   "cell_type": "code",
   "execution_count": 96,
   "id": "8e64e884",
   "metadata": {},
   "outputs": [],
   "source": [
    "import re\n",
    "from collections import Counter\n",
    "\n",
    "# here we will check user's choice if he chose for default then we will use default verifier\n",
    "def password_verifier(user_constraints,generated_password):\n",
    "    choice = user_constraints.get(\"default_auto_password\",True)\n",
    "    \n",
    "    password_length = user_constraints.get(\"length_of_password\")\n",
    "    digits_length = user_constraints.get(\"length_of_number\")\n",
    "    upper_length = user_constraints.get(\"length_of_uppercase\")\n",
    "    lower_length = user_constraints.get(\"length_of_lowercase\")\n",
    "    special_sym_length = user_constraints.get(\"length_of_special_character\")\n",
    "\n",
    "\n",
    "    is_valid = len(generated_password) >= password_length and len(re.findall('[a-z]', generated_password))==lower_length and len(re.findall('[A-Z]', generated_password))==upper_length and len(re.findall('[0-9]', generated_password))==digits_length and len(re.findall(\"[@#$%=:?./|~>*()<]\", generated_password))==special_sym_length\n",
    "\n",
    "    if(is_valid):\n",
    "        print(f'Hola! Your default generated password is : ${generated_password}')\n",
    "    else :\n",
    "        print(\"we are sorry, we are not able to verify the default password\")\n",
    "\n",
    "# cnst = {\"default_auto_password\": False,\n",
    "#  'length_of_password': 16,\n",
    "#  'length_of_uppercase': 5,\n",
    "#  'length_of_lowercase': 3,\n",
    "#  \"length_of_number\": 2,\n",
    "#  'length_of_special_character': 6}\n",
    "\n",
    "# password_verifier(cnst,\"%Er$e4.Pt=#VV<G3\")"
   ]
  },
  {
   "cell_type": "code",
   "execution_count": null,
   "id": "a331e1ee",
   "metadata": {},
   "outputs": [],
   "source": []
  },
  {
   "cell_type": "code",
   "execution_count": null,
   "id": "de047ae9",
   "metadata": {},
   "outputs": [],
   "source": []
  },
  {
   "cell_type": "code",
   "execution_count": null,
   "id": "3db1ad09",
   "metadata": {},
   "outputs": [],
   "source": []
  },
  {
   "cell_type": "code",
   "execution_count": null,
   "id": "e5930e3f",
   "metadata": {},
   "outputs": [],
   "source": []
  },
  {
   "cell_type": "code",
   "execution_count": null,
   "id": "7979cd0a",
   "metadata": {},
   "outputs": [],
   "source": []
  }
 ],
 "metadata": {
  "kernelspec": {
   "display_name": "Python 3 (ipykernel)",
   "language": "python",
   "name": "python3"
  },
  "language_info": {
   "codemirror_mode": {
    "name": "ipython",
    "version": 3
   },
   "file_extension": ".py",
   "mimetype": "text/x-python",
   "name": "python",
   "nbconvert_exporter": "python",
   "pygments_lexer": "ipython3",
   "version": "3.9.13"
  }
 },
 "nbformat": 4,
 "nbformat_minor": 5
}
